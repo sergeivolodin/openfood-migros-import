{
 "cells": [
  {
   "cell_type": "code",
   "execution_count": 1,
   "metadata": {},
   "outputs": [],
   "source": [
    "from os import listdir\n",
    "from os.path import isfile, join\n",
    "import json\n",
    "from tqdm import tqdm\n",
    "import pandas as pd\n",
    "from copy import deepcopy"
   ]
  },
  {
   "cell_type": "code",
   "execution_count": 2,
   "metadata": {},
   "outputs": [],
   "source": [
    "# Loading file list\n",
    "path = '..'\n",
    "files = listdir(path)\n",
    "extension = '.json'\n",
    "files = filter(lambda f: len(f) > len(extension), files)\n",
    "files = map(lambda f: join(path, f), files)\n",
    "files = list(filter(lambda pf: extension in pf and isfile(pf), files))"
   ]
  },
  {
   "cell_type": "code",
   "execution_count": 3,
   "metadata": {},
   "outputs": [
    {
     "name": "stderr",
     "output_type": "stream",
     "text": [
      "100%|██████████| 8294/8294 [00:04<00:00, 1923.01it/s]\n"
     ]
    }
   ],
   "source": [
    "# Reading all files, storing data to rows\n",
    "header = ['idx', 'name', 'eans', 'slug']\n",
    "rows = []\n",
    "for f in tqdm(files):\n",
    "    product = json.load(open(f, 'r'))\n",
    "    \n",
    "    row = product['_product']['id'], product['_source']['name'], \\\n",
    "        product['_source']['eans'], product['_source']['categories'][0]['slug']\n",
    "    for item in row:\n",
    "        assert(len(item) > 0)\n",
    "    \n",
    "    eans_idx = header.index('eans')\n",
    "    \n",
    "    for ean in row[eans_idx]:\n",
    "        r = list(deepcopy(row))\n",
    "        r[eans_idx] = ean\n",
    "        rows.append(r)"
   ]
  },
  {
   "cell_type": "code",
   "execution_count": 4,
   "metadata": {},
   "outputs": [],
   "source": [
    "# Creating a dataframe\n",
    "df = pd.DataFrame(rows, columns = header)"
   ]
  },
  {
   "cell_type": "code",
   "execution_count": 5,
   "metadata": {},
   "outputs": [
    {
     "data": {
      "text/html": [
       "<div>\n",
       "<style scoped>\n",
       "    .dataframe tbody tr th:only-of-type {\n",
       "        vertical-align: middle;\n",
       "    }\n",
       "\n",
       "    .dataframe tbody tr th {\n",
       "        vertical-align: top;\n",
       "    }\n",
       "\n",
       "    .dataframe thead th {\n",
       "        text-align: right;\n",
       "    }\n",
       "</style>\n",
       "<table border=\"1\" class=\"dataframe\">\n",
       "  <thead>\n",
       "    <tr style=\"text-align: right;\">\n",
       "      <th></th>\n",
       "      <th>idx</th>\n",
       "      <th>name</th>\n",
       "      <th>eans</th>\n",
       "      <th>slug</th>\n",
       "    </tr>\n",
       "  </thead>\n",
       "  <tbody>\n",
       "    <tr>\n",
       "      <th>0</th>\n",
       "      <td>101146800000</td>\n",
       "      <td>V6 Dental White Spearmint</td>\n",
       "      <td>5700626503125</td>\n",
       "      <td>supermarche/denrees-alimentaires/chocolat/bonb...</td>\n",
       "    </tr>\n",
       "    <tr>\n",
       "      <th>1</th>\n",
       "      <td>101146800000</td>\n",
       "      <td>V6 Dental White Spearmint</td>\n",
       "      <td>5704592009001</td>\n",
       "      <td>supermarche/denrees-alimentaires/chocolat/bonb...</td>\n",
       "    </tr>\n",
       "    <tr>\n",
       "      <th>2</th>\n",
       "      <td>107306500000</td>\n",
       "      <td>M-Quick Boisson au cacao</td>\n",
       "      <td>7613312049297</td>\n",
       "      <td>supermarche/denrees-alimentaires/petit-dejeune...</td>\n",
       "    </tr>\n",
       "    <tr>\n",
       "      <th>3</th>\n",
       "      <td>107306500000</td>\n",
       "      <td>M-Quick Boisson au cacao</td>\n",
       "      <td>7610121500315</td>\n",
       "      <td>supermarche/denrees-alimentaires/petit-dejeune...</td>\n",
       "    </tr>\n",
       "    <tr>\n",
       "      <th>4</th>\n",
       "      <td>107306500000</td>\n",
       "      <td>M-Quick Boisson au cacao</td>\n",
       "      <td>7613312049303</td>\n",
       "      <td>supermarche/denrees-alimentaires/petit-dejeune...</td>\n",
       "    </tr>\n",
       "  </tbody>\n",
       "</table>\n",
       "</div>"
      ],
      "text/plain": [
       "            idx                       name           eans  \\\n",
       "0  101146800000  V6 Dental White Spearmint  5700626503125   \n",
       "1  101146800000  V6 Dental White Spearmint  5704592009001   \n",
       "2  107306500000   M-Quick Boisson au cacao  7613312049297   \n",
       "3  107306500000   M-Quick Boisson au cacao  7610121500315   \n",
       "4  107306500000   M-Quick Boisson au cacao  7613312049303   \n",
       "\n",
       "                                                slug  \n",
       "0  supermarche/denrees-alimentaires/chocolat/bonb...  \n",
       "1  supermarche/denrees-alimentaires/chocolat/bonb...  \n",
       "2  supermarche/denrees-alimentaires/petit-dejeune...  \n",
       "3  supermarche/denrees-alimentaires/petit-dejeune...  \n",
       "4  supermarche/denrees-alimentaires/petit-dejeune...  "
      ]
     },
     "execution_count": 5,
     "metadata": {},
     "output_type": "execute_result"
    }
   ],
   "source": [
    "df.head()"
   ]
  },
  {
   "cell_type": "code",
   "execution_count": 6,
   "metadata": {},
   "outputs": [
    {
     "data": {
      "text/plain": [
       "{'aperitif',\n",
       " 'boissons-chaudes-froides',\n",
       " 'boulangerie',\n",
       " 'chocolat',\n",
       " 'fruits-et-legumes',\n",
       " 'garnitures-ingredients',\n",
       " 'mueesli-cereales',\n",
       " 'petit-dejeuner',\n",
       " 'plats-cuisines',\n",
       " 'poisson-fruits-de-mer',\n",
       " 'produits-laitiers-oeufs',\n",
       " 'produits-surgeles',\n",
       " 'tartes',\n",
       " 'viande'}"
      ]
     },
     "execution_count": 6,
     "metadata": {},
     "output_type": "execute_result"
    }
   ],
   "source": [
    "# All of the categories\n",
    "set([x.split('/')[2] for x in list(df['slug'])])"
   ]
  },
  {
   "cell_type": "code",
   "execution_count": 7,
   "metadata": {},
   "outputs": [],
   "source": [
    "# Saving data to csv file\n",
    "df.to_csv('migros-barcode-category.csv')"
   ]
  },
  {
   "cell_type": "code",
   "execution_count": null,
   "metadata": {},
   "outputs": [],
   "source": []
  }
 ],
 "metadata": {
  "kernelspec": {
   "display_name": "Python 3",
   "language": "python",
   "name": "python3"
  },
  "language_info": {
   "codemirror_mode": {
    "name": "ipython",
    "version": 3
   },
   "file_extension": ".py",
   "mimetype": "text/x-python",
   "name": "python",
   "nbconvert_exporter": "python",
   "pygments_lexer": "ipython3",
   "version": "3.5.3"
  }
 },
 "nbformat": 4,
 "nbformat_minor": 2
}
